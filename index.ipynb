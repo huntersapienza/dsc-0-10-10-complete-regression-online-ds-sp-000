{
 "cells": [
  {
   "cell_type": "markdown",
   "metadata": {},
   "source": [
    "# Regression Lab\n",
    "\n",
    "Now have all the necessary functions to calculate the slope, intercept, best-fit line, prediction and visualizations. In this lab you will put them all together to run a regression experiment and calculate model loss. \n",
    "\n",
    "## SWBAT\n",
    "\n",
    "* Run a complete regression analysis through code only. "
   ]
  },
  {
   "cell_type": "markdown",
   "metadata": {},
   "source": [
    "## Here are all the formulas to put everything in perspective\n",
    "\n",
    "#### Slope\n",
    "<img src=\"m.png\" width = 300>\n",
    "\n",
    "#### Intercept \n",
    "<img src=\"b.png\" width = 200>\n",
    "\n",
    "#### R-squared\n",
    "<img src=\"r2.png\" width = 400>\n",
    "\n",
    "#### Prediction\n",
    "![](pred.jpg)\n",
    "\n",
    "\n",
    "Use the functions created earlier to implement these formulas to run a regression analysis using X and Y as input variables. "
   ]
  },
  {
   "cell_type": "code",
   "execution_count": 3,
   "metadata": {},
   "outputs": [],
   "source": [
    "\n",
    "# Combine all the functions created so far to run a complete regression experiment. \n",
    "# Produce an output similar to the one shown below. \n",
    "\n",
    "X = np.array([1,2,3,4,5,6,7,8,9,10], dtype=np.float64)\n",
    "Y = np.array([7,7,8,9,9,10,10,11,11,12], dtype=np.float64)\n"
   ]
  },
  {
   "cell_type": "code",
   "execution_count": 2,
   "metadata": {},
   "outputs": [],
   "source": [
    "import numpy as np\n",
    "import matplotlib.pyplot as plt\n",
    "from matplotlib import style\n",
    "style.use('ggplot')"
   ]
  },
  {
   "cell_type": "code",
   "execution_count": 4,
   "metadata": {},
   "outputs": [],
   "source": [
    "def calc_slope(x,y):\n",
    "    return (np.mean(x)*np.mean(y)-np.mean(x*y))/(np.mean(x)**2 - np.mean(x**2))"
   ]
  },
  {
   "cell_type": "code",
   "execution_count": 5,
   "metadata": {},
   "outputs": [],
   "source": [
    "def best_fit(xs,ys):\n",
    "    slope = calc_slope(xs,ys)\n",
    "    b = np.mean(ys)-(slope*np.mean(xs))\n",
    "    return slope,b"
   ]
  },
  {
   "cell_type": "code",
   "execution_count": 20,
   "metadata": {},
   "outputs": [],
   "source": [
    "def reg_line (m, b, xs):\n",
    "    regression_line = []\n",
    "    for i in xs:\n",
    "        regression_line.append(m*i+b)\n",
    "    return regression_line"
   ]
  },
  {
   "cell_type": "code",
   "execution_count": 7,
   "metadata": {},
   "outputs": [],
   "source": [
    "def sq_err(ys_a, ys_b):\n",
    "    squared_error = 0\n",
    "    for x in range(0,len(ys_a)):\n",
    "        squared_error += (ys_a[x]-ys_b[x])**2\n",
    "    return squared_error"
   ]
  },
  {
   "cell_type": "code",
   "execution_count": 8,
   "metadata": {},
   "outputs": [],
   "source": [
    "def r_squared(ys_real, ys_predicted):\n",
    "    num = sq_err(ys_real, ys_predicted)\n",
    "    denom = 0\n",
    "    for x in ys_real:\n",
    "        denom += (x-np.mean(ys_real))**2\n",
    "    return 1-(num/denom)"
   ]
  },
  {
   "cell_type": "code",
   "execution_count": 24,
   "metadata": {},
   "outputs": [],
   "source": [
    "m,b = best_fit(X,Y)\n",
    "m2 = round(m,2)\n",
    "b2 = round(b,2)\n",
    "ys_predicted = reg_line(m,b,X)"
   ]
  },
  {
   "cell_type": "code",
   "execution_count": 25,
   "metadata": {},
   "outputs": [
    {
     "name": "stdout",
     "output_type": "stream",
     "text": [
      "Basic Regression Diagnostics\n",
      "Slope: 0.56\n",
      "Y-Intercept: 6.33\n",
      "R-Squared: 0.97\n",
      "Model: Y = 0.56 * X + 6.33\n"
     ]
    }
   ],
   "source": [
    "print('Basic Regression Diagnostics')\n",
    "print('Slope:',round(calc_slope(X,Y),2))\n",
    "print('Y-Intercept:',b2)\n",
    "print('R-Squared:',round((r_squared(Y,ys_predicted)),2))\n",
    "print('Model:','Y =',m2,'* X +',b2)"
   ]
  },
  {
   "cell_type": "code",
   "execution_count": 26,
   "metadata": {
    "scrolled": true
   },
   "outputs": [],
   "source": [
    "# Basic Regression Diagnostics\n",
    "# ----------------------------\n",
    "# Slope: 0.56\n",
    "# Y-Intercept: 6.33\n",
    "# R-Squared: 0.97\n",
    "# ----------------------------\n",
    "# Model: Y = 0.56 * X + 6.33"
   ]
  },
  {
   "cell_type": "markdown",
   "metadata": {},
   "source": [
    "## Make Predictions\n",
    "\n",
    "Predict and plot the value of y using regression line above for a new value of x = 4.5."
   ]
  },
  {
   "cell_type": "code",
   "execution_count": 27,
   "metadata": {},
   "outputs": [
    {
     "data": {
      "image/png": "[encoded data removed]",
      "text/plain": [
       "<Figure size 432x288 with 1 Axes>"
      ]
     },
     "metadata": {
      "needs_background": "light"
     },
     "output_type": "display_data"
    }
   ],
   "source": [
    "# Make prediction using given value and visualize on the scatter plot\n",
    "x_new = 4.5\n",
    "y_predicted = m*x_new +b\n",
    "\n",
    "plt.scatter(X,Y,color='#000F81',label='data')\n",
    "plt.plot(X, ys_predicted, color='#870000', label='regression line')\n",
    "plt.scatter(x_new,y_predicted,color='g',label='Prediction: '+ str(np.round(y_predicted,1)))\n",
    "plt.legend(loc=4)\n",
    "plt.show()"
   ]
  },
  {
   "cell_type": "code",
   "execution_count": 66,
   "metadata": {},
   "outputs": [
    {
     "data": {
      "image/png": "[encoded data removed]",
      "text/plain": [
       "<matplotlib.figure.Figure at 0x1a17f22b70>"
      ]
     },
     "metadata": {},
     "output_type": "display_data"
    }
   ],
   "source": []
  },
  {
   "cell_type": "markdown",
   "metadata": {},
   "source": [
    "## Level up - Optional \n",
    "Load the \"heightWeight.csv\" dataset. Use the height as an independant and weight as a dependant variable and draw a regression line to data using your code above. Calculate your R-square for the model and try to predict new values of Y. "
   ]
  },
  {
   "cell_type": "markdown",
   "metadata": {},
   "source": [
    "## Summary\n",
    "\n",
    "In this lab, we ran a complete simple regression analysis experiment using functions created so far. Next We shall see how we can use python's built in modules to perform such analyses with a much higher level of sophistication. "
   ]
  },
  {
   "cell_type": "code",
   "execution_count": null,
   "metadata": {},
   "outputs": [],
   "source": []
  }
 ],
 "metadata": {
  "kernelspec": {
   "display_name": "Python 3",
   "language": "python",
   "name": "python3"
  },
  "language_info": {
   "codemirror_mode": {
    "name": "ipython",
    "version": 3
   },
   "file_extension": ".py",
   "mimetype": "text/x-python",
   "name": "python",
   "nbconvert_exporter": "python",
   "pygments_lexer": "ipython3",
   "version": "3.7.0"
  }
 },
 "nbformat": 4,
 "nbformat_minor": 2
}
